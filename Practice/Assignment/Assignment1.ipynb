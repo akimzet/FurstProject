{
 "cells": [
  {
   "cell_type": "markdown",
   "metadata": {},
   "source": [
    "# Implement in Python"
   ]
  },
  {
   "cell_type": "code",
   "execution_count": 1,
   "metadata": {},
   "outputs": [
    {
     "name": "stdout",
     "output_type": "stream",
     "text": [
      "[[ 1  1  1  1  1 -1 -1 -1 -1 -1]\n",
      " [ 1  1  1  1  1 -1 -1 -1 -1 -1]\n",
      " [ 1  1  1  1  1 -1 -1 -1 -1 -1]\n",
      " [ 1  1  1  1  1 -1 -1 -1 -1 -1]\n",
      " [ 1  1  1  1  1 -1 -1 -1 -1 -1]\n",
      " [-1 -1 -1 -1 -1 -1 -1 -1 -1 -1]\n",
      " [-1 -1 -1 -1 -1 -1 -1 -1 -1 -1]\n",
      " [-1 -1 -1 -1 -1 -1 -1 -1 -1 -1]\n",
      " [-1 -1 -1 -1 -1 -1 -1 -1 -1 -1]\n",
      " [-1 -1 -1 -1 -1 -1 -1 -1 -1 -1]]\n",
      "10\n",
      "10\n"
     ]
    }
   ],
   "source": [
    "import numpy as np\n",
    "A = np.array([[1, 1, 1, 1, 1, -1, -1, -1, -1, -1],\n",
    "              [1, 1, 1, 1, 1, -1, -1, -1, -1, -1],\n",
    "              [1, 1, 1, 1, 1, -1, -1, -1, -1, -1],\n",
    "              [1, 1, 1, 1, 1, -1, -1, -1, -1, -1],\n",
    "              [1, 1, 1, 1, 1, -1, -1, -1, -1, -1],\n",
    "              [-1, -1, -1, -1, -1, -1, -1, -1, -1, -1],\n",
    "              [-1, -1, -1, -1, -1, -1, -1, -1, -1, -1],\n",
    "              [-1, -1, -1, -1, -1, -1, -1, -1, -1, -1],\n",
    "              [-1, -1, -1, -1, -1, -1, -1, -1, -1, -1],\n",
    "              [-1, -1, -1, -1, -1, -1, -1, -1, -1, -1],])\n",
    "print(A)\n",
    "m, n = A.shape\n",
    "print(m) #Rows\n",
    "print(n) #Cols"
   ]
  },
  {
   "cell_type": "markdown",
   "metadata": {},
   "source": [
    "## Implement Kernels"
   ]
  },
  {
   "cell_type": "code",
   "execution_count": 2,
   "metadata": {},
   "outputs": [
    {
     "name": "stdout",
     "output_type": "stream",
     "text": [
      "Kernel A\n",
      " [[ 1 -1]\n",
      " [ 1 -1]] \n",
      "\n",
      "Kernel B\n",
      " [[ 1  1]\n",
      " [-1 -1]]\n"
     ]
    }
   ],
   "source": [
    "kerA = np.array([[1, -1],\n",
    "                [1, -1]])\n",
    "print('Kernel A\\n', kerA, '\\n')\n",
    "\n",
    "kerB = np.array([[1, 1],\n",
    "                [-1, -1]])\n",
    "print('Kernel B\\n', kerB)"
   ]
  },
  {
   "cell_type": "markdown",
   "metadata": {},
   "source": [
    "## Convolution"
   ]
  },
  {
   "cell_type": "code",
   "execution_count": 3,
   "metadata": {},
   "outputs": [
    {
     "name": "stdout",
     "output_type": "stream",
     "text": [
      "[[ 0.  0.  0.  0.  0.]\n",
      " [ 0.  0.  0.  0.  0.]\n",
      " [ 0.  0.  0.  0.  0.]\n",
      " [ 0.  0.  0.  0.  0.]\n",
      " [ 0.  0.  0.  0.  0.]]\n",
      "[[ 0.  0.  0.  0.  0.]\n",
      " [ 0.  0.  0.  0.  0.]\n",
      " [ 0.  0.  0.  0.  0.]\n",
      " [ 0.  0.  0.  0.  0.]\n",
      " [ 0.  0.  0.  0.  0.]]\n"
     ]
    }
   ],
   "source": [
    "s = (5, 5)\n",
    "B = np.zeros(s)\n",
    "C = np.zeros(s)\n",
    "print(B)\n",
    "print(C)"
   ]
  },
  {
   "cell_type": "code",
   "execution_count": 4,
   "metadata": {
    "collapsed": true
   },
   "outputs": [],
   "source": [
    "def Convolution(Target, New, Kernel, n):\n",
    "    #Index in target matrix\n",
    "    a = 0\n",
    "    b = 0\n",
    "    #\n",
    "    c = 1\n",
    "    d = 0\n",
    "    #Comparison variable\n",
    "    val = 2\n",
    "    #Index for new matrix\n",
    "    inda = 0\n",
    "    indb = 0\n",
    "    #Check for end of matrix\n",
    "    num = 4\n",
    "\n",
    "    for i in np.arange(Target.size / 4):\n",
    "        val = 2\n",
    "        #Compare and find greatest value\n",
    "        tempa = Target[a, b] * Kernel[0, 0]\n",
    "        tempb = Target[a, b + 1] * Kernel[0, 1]\n",
    "        tempc = Target[c, d] * Kernel[1, 0]\n",
    "        tempd = Target[c, d + 1] * Kernel[1, 1]\n",
    "        #Put value in new matrix\n",
    "        New[inda, indb] = (tempa + tempb + tempc + tempd)\n",
    "        #Increment new matrix index over by row\n",
    "        indb += 1\n",
    "        #Move kernel horizontally\n",
    "        b += 2\n",
    "        d += 2\n",
    "        #When at end of matrix increment index by column\n",
    "        if i == (n - 1) or (num + n) == i:\n",
    "            #Move kernel vertically, reset horizontal index\n",
    "            a += 2\n",
    "            c += 2\n",
    "            b = 0\n",
    "            d = 0\n",
    "            #Increment new matrix index over by column, reset horizontal index\n",
    "            inda += 1\n",
    "            indb = 0\n",
    "            #Used for each time i + 5\n",
    "            num = i\n",
    "    return New\n",
    "\n",
    "B = Convolution(A, B, kerA, 5)\n",
    "C = Convolution(A, C, kerB, 5)\n",
    "\n"
   ]
  },
  {
   "cell_type": "markdown",
   "metadata": {},
   "source": [
    "## Turn matrix to image"
   ]
  },
  {
   "cell_type": "code",
   "execution_count": 5,
   "metadata": {
    "collapsed": true
   },
   "outputs": [],
   "source": [
    "import cv2\n",
    "cv2.imshow('Image', B)\n",
    "cv2.waitKey()\n",
    "cv2.destroyAllWindows()\n",
    "\n",
    "cv2.imshow('Image', C)\n",
    "cv2.waitKey()\n",
    "cv2.destroyAllWindows()\n"
   ]
  },
  {
   "cell_type": "markdown",
   "metadata": {},
   "source": [
    "# On real image"
   ]
  },
  {
   "cell_type": "code",
   "execution_count": 6,
   "metadata": {
    "collapsed": true
   },
   "outputs": [],
   "source": [
    "#0 = black, 255 = white\n",
    "\n",
    "img = cv2.imread('img.jpg',cv2.IMREAD_GRAYSCALE)\n",
    "cv2.imshow('image', img)\n",
    "cv2.waitKey(0)\n",
    "cv2.destroyAllWindows()\n",
    "\n",
    "#Normalize img -1 to 1\n",
    "newImg = (img / 128) - 1\n",
    "#Create size for new image\n",
    "m, n = newImg.shape\n",
    "s = (200, 300)\n",
    "D = np.zeros(s)\n",
    "E = np.zeros(s)\n",
    "D = Convolution(newImg, D, kerA, n / 2)\n",
    "E = Convolution(newImg, E, kerB, n / 2)\n",
    "\n",
    "cv2.imshow('Kernal A', D)\n",
    "cv2.waitKey()\n",
    "cv2.destroyAllWindows()\n",
    "\n",
    "cv2.imshow('Kernal A', E)\n",
    "cv2.waitKey()\n",
    "cv2.destroyAllWindows()"
   ]
  },
  {
   "cell_type": "code",
   "execution_count": null,
   "metadata": {
    "collapsed": true
   },
   "outputs": [],
   "source": []
  },
  {
   "cell_type": "code",
   "execution_count": null,
   "metadata": {
    "collapsed": true
   },
   "outputs": [],
   "source": []
  }
 ],
 "metadata": {
  "kernelspec": {
   "display_name": "Python 3",
   "language": "python",
   "name": "python3"
  },
  "language_info": {
   "codemirror_mode": {
    "name": "ipython",
    "version": 3
   },
   "file_extension": ".py",
   "mimetype": "text/x-python",
   "name": "python",
   "nbconvert_exporter": "python",
   "pygments_lexer": "ipython3",
   "version": "3.5.3"
  }
 },
 "nbformat": 4,
 "nbformat_minor": 2
}
